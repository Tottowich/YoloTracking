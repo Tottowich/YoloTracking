{
 "cells": [
  {
   "attachments": {},
   "cell_type": "markdown",
   "metadata": {},
   "source": [
    "# AutoDistil\n",
    "This notebook covers the use of [Roboflow's autodistillation](https://blog.roboflow.com/autodistill/) feature.\n",
    "## Overview\n",
    "Model distillation is a technique for compressing a large model into a smaller model. The smaller model is trained to mimic the behavior of the larger model. This is useful for deploying models to devices with limited memory and processing power, such as mobile phones and embedded devices. What *Autodistill* aims to do is to automate the processes of training a computer vision model using initially unlabeled data. Instead autodistill uses a large model trained on a large dataset to label the unlabeled data. The labeled data is then used to train a smaller model which can be deployed to edge devices.\n",
    "## Setup\n",
    "### Install Dependencies\n",
    "This notebook utilizes the pre-trained [SAM-Segment Anything Model](https://segment-anything.com), [[Github]](https://github.com/facebookresearch/segment-anything) [[Paper]](https://ai.facebook.com/research/publications/segment-anything/), and [Grounded Dino](https://huggingface.co/spaces/ShilongLiu/Grounding_DINO_demo), [[Github]](https://github.com/IDEA-Research/GroundingDINO) \\& [[paper]](https://arxiv.org/pdf/2303.05499.pdf) models. The following are the dependencies needed to run this notebook:\n",
    "- [AutoDistill](https://github.com/autodistill)\n",
    "- [autodistill-grounded-sam](https://github.com/autodistill)\n",
    "- [autodistill-yolov8](https://github.com/autodistill/autodistill-yolov8)\n",
    "- [supervision](https://github.com/autodistill/supervision)\n",
    "- **optionally** [autodistill-sam-clip](https://github.com/autodistill/autodistill-sam-clip)\n",
    "\n",
    "There are many available base-models, i.e. grounded-sam or sam-clip, that can be used to label the unlabeled data. Make sure to use the one that works best for your use case. \n",
    "\n",
    "**Note** do not label all of your unlabeled data at once. Instead test if the model works well on a small subset of your data before labeling all of it. It might help to test a different base-model if the first one does not work well. See the [autodistill repo](https://github.com/autodistill) for the latest updates on available base-models.\n",
    "\n",
    "To install the dependencies run the following commands:\n",
    "```bash\n",
    "pip install autodistill autodistill-grounded-sam autodistill-yolov8 supervision\n",
    "```\n",
    "It is recommended to use a virtual environment to install the dependencies.\n",
    "\n",
    "With the environment setup, we start the auto-distillation process by importing the necessary libraries."
   ]
  },
  {
   "attachments": {},
   "cell_type": "markdown",
   "metadata": {},
   "source": [
    "### Supervision - sv\n",
    "Framework for training models to work with some of the SOTA models. It gives an interface between the various models a common Roboflow format.\n",
    "### Autodistill\n",
    "Library containing the main functions and classes for the auto-distillation process.\n",
    "### Autodistill-grounded-sam\n",
    "The grounded-sam model is used to label the unlabeled data. This can be replaced with any of the other available base-models supplied by the autodistill library."
   ]
  },
  {
   "cell_type": "code",
   "execution_count": 1,
   "metadata": {},
   "outputs": [
    {
     "name": "stderr",
     "output_type": "stream",
     "text": [
      "/home/thjo/miniconda3/envs/bolidenV8/lib/python3.9/site-packages/tqdm/auto.py:21: TqdmWarning: IProgress not found. Please update jupyter and ipywidgets. See https://ipywidgets.readthedocs.io/en/stable/user_install.html\n",
      "  from .autonotebook import tqdm as notebook_tqdm\n"
     ]
    }
   ],
   "source": [
    "import supervision as sv\n",
    "from autodistill.detection import CaptionOntology\n",
    "from autodistill_grounded_sam import GroundedSAM\n",
    "from autodistill_sam_clip import SAMCLIP"
   ]
  },
  {
   "attachments": {},
   "cell_type": "markdown",
   "metadata": {},
   "source": [
    "### Dataset setup\n",
    "We now need to specify where the current images that should be labeled are stored and where the labeled images should be stored."
   ]
  },
  {
   "cell_type": "code",
   "execution_count": 2,
   "metadata": {},
   "outputs": [],
   "source": [
    "image_folder = 'test_folder'\n",
    "output_folder = 'output_folder'"
   ]
  },
  {
   "attachments": {},
   "cell_type": "markdown",
   "metadata": {},
   "source": [
    "## Specify the 'Ontology' and the base-model\n",
    "Crucial part of the process. This step is where you specify the classes that you want to label. This is done using a descriptive text per class. The large base-models uses the text embedding generated from the text to label the image, therefore the text should be consice and descriptive.\n",
    "```python\n",
    "descriptions = {\n",
    "    \"description of class 1\": \"class 1\",\n",
    "    \"description of class 2\": \"class 2\",\n",
    "    \"description of class 3\": \"class 3\",\n",
    "}\n",
    "```\n"
   ]
  },
  {
   "attachments": {},
   "cell_type": "markdown",
   "metadata": {},
   "source": [
    "### Note that these models are very large and will take a long time to download, and will require a lot of memory to run."
   ]
  },
  {
   "cell_type": "code",
   "execution_count": 3,
   "metadata": {},
   "outputs": [],
   "source": [
    "ontology = CaptionOntology({\n",
    "    'Number 0': '0',\n",
    "    'Number 1': '1',\n",
    "    'Number 2': '2',\n",
    "    'Number 3': '3',\n",
    "    'Number 4': '4',\n",
    "    'Number 5': '5',\n",
    "    'Number 6': '6',\n",
    "    'Number 7': '7',\n",
    "    'Number 8': '8',\n",
    "    'Number 9': '9',\n",
    "})\n",
    "base_model = SAMCLIP(ontology)"
   ]
  },
  {
   "attachments": {},
   "cell_type": "markdown",
   "metadata": {},
   "source": [
    "## Label the data\n",
    "Now using the easy to use interface implemented we can label the data. The following code will label the data and save the labels to the specified directory."
   ]
  },
  {
   "cell_type": "code",
   "execution_count": null,
   "metadata": {},
   "outputs": [],
   "source": [
    "dataset = base_model.label(\n",
    "    input_folder=image_folder,\n",
    "    output_folder=output_folder,\n",
    ")"
   ]
  }
 ],
 "metadata": {
  "kernelspec": {
   "display_name": "schenk_dec",
   "language": "python",
   "name": "python3"
  },
  "language_info": {
   "codemirror_mode": {
    "name": "ipython",
    "version": 3
   },
   "file_extension": ".py",
   "mimetype": "text/x-python",
   "name": "python",
   "nbconvert_exporter": "python",
   "pygments_lexer": "ipython3",
   "version": "3.9.16"
  },
  "orig_nbformat": 4
 },
 "nbformat": 4,
 "nbformat_minor": 2
}
