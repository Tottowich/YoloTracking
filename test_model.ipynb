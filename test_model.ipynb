{
 "cells": [
  {
   "cell_type": "code",
   "execution_count": 1,
   "metadata": {},
   "outputs": [
    {
     "name": "stderr",
     "output_type": "stream",
     "text": [
      "WARNING  user config directory is not writeable, defaulting to '/tmp/Ultralytics'.\n"
     ]
    }
   ],
   "source": [
    "import os\n",
    "import random\n",
    "from ultralytics import YOLO\n",
    "import matplotlib.pyplot as plt\n",
    "from tools.yolo_utils import read_yaml"
   ]
  },
  {
   "attachments": {},
   "cell_type": "markdown",
   "metadata": {},
   "source": [
    "## Load the trained model\n",
    "Specify the path to the trained model and the path to the model directory. Also specify the path to the test data."
   ]
  },
  {
   "cell_type": "code",
   "execution_count": 2,
   "metadata": {},
   "outputs": [],
   "source": [
    "project_dir = 'yolov8/schenk8l/'\n",
    "weights = os.path.join(project_dir, 'weights/best.onnx')\n",
    "data = read_yaml(read_yaml(os.path.join(project_dir, 'args.yaml'))[\"data\"])[\"path\"]\n",
    "task = 'detect'\n",
    "# Create an image folder to store the results\n",
    "results_dir = os.path.join(project_dir, 'samples')\n",
    "os.makedirs(results_dir, exist_ok=True)\n",
    "model = YOLO(model=weights, task=task)"
   ]
  },
  {
   "attachments": {},
   "cell_type": "markdown",
   "metadata": {},
   "source": [
    "## Test the model on the test set"
   ]
  },
  {
   "cell_type": "code",
   "execution_count": 3,
   "metadata": {},
   "outputs": [
    {
     "name": "stderr",
     "output_type": "stream",
     "text": [
      "Loading yolov8/schenk8l/weights/best.onnx for ONNX Runtime inference...\n",
      "\n",
      "0: 640x640 1 Sign, 1: 640x640 1 Schenk, 2 Signs, 2: 640x640 1 Schenk, 1 Sign, 3: 640x640 1 Schenk, 1 Sign, 4: 640x640 1 Schenk, 1 Sign, 5: 640x640 1 Schenk, 1 Sign, 138.5ms\n",
      "Speed: 11.8ms preprocess, 23.1ms inference, 5.7ms postprocess per image at shape (1, 3, 640, 640)\n",
      "Results saved to \u001b[1myolov8/schenk8l/samples/test2\u001b[0m\n"
     ]
    }
   ],
   "source": [
    "n = 5                  # number of images to display\n",
    "conf = 0.5            # confidence threshold (0-1) per object\n",
    "iou = 0.45             # NMS IoU threshold (0-1) per class\n",
    "\n",
    "dataset_split = 'test' # 'train', 'val', 'test'\n",
    "\n",
    "test_path = os.path.join(data, dataset_split)\n",
    "# Get a subset of the test set\n",
    "files = os.listdir(test_path)\n",
    "random.shuffle(files)\n",
    "files = files[:n+1]\n",
    "files = [os.path.join(test_path, f.replace('.txt','.jpg')) for f in files]\n",
    "\n",
    "results = model.predict(files, conf=conf, iou=iou, save=True, project=results_dir, name=dataset_split)"
   ]
  },
  {
   "cell_type": "code",
   "execution_count": null,
   "metadata": {},
   "outputs": [],
   "source": []
  }
 ],
 "metadata": {
  "kernelspec": {
   "display_name": "bolidenV8",
   "language": "python",
   "name": "python3"
  },
  "language_info": {
   "codemirror_mode": {
    "name": "ipython",
    "version": 3
   },
   "file_extension": ".py",
   "mimetype": "text/x-python",
   "name": "python",
   "nbconvert_exporter": "python",
   "pygments_lexer": "ipython3",
   "version": "3.9.16"
  },
  "orig_nbformat": 4
 },
 "nbformat": 4,
 "nbformat_minor": 2
}
