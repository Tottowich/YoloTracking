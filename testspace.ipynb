{
 "cells": [
  {
   "cell_type": "code",
   "execution_count": null,
   "metadata": {},
   "outputs": [],
   "source": [
    "import numpy as np\n",
    "import matplotlib.pyplot as plt\n",
    "from ultralytics.yolo.utils.ops import xywh2xyxy, xyxy2xywh\n",
    "from tools.utils import get_cut_out\n",
    "from tools.StreamLoader import LoadImages\n",
    "from PIL import Image\n",
    "path = \"/home/thjo/Datasets/autoSchenk/20230609_161829_0.jpg\"\n",
    "loader = LoadImages(path, imgsz=416)\n",
    "path, img0, img, _ = next(iter(loader))\n",
    "path = path[0]\n",
    "print(f\"Path: {path}\")\n",
    "print(f\"img0: {img0.shape}\")\n",
    "print(f\"img: {img.shape}\")\n",
    "label_path = path.replace(\".jpg\", \".txt\").replace(\".png\", \".txt\")\n",
    "labels = np.loadtxt(label_path, delimiter=\" \", dtype=np.float32).reshape(-1, 5)\n",
    "print(labels)\n",
    "plt.imshow(img0)"
   ]
  },
  {
   "cell_type": "code",
   "execution_count": null,
   "metadata": {},
   "outputs": [],
   "source": [
    "from tools.verify_predictions import DataSplitter\n",
    "import os"
   ]
  },
  {
   "cell_type": "code",
   "execution_count": null,
   "metadata": {},
   "outputs": [],
   "source": [
    "\n",
    "files = os.listdir(\"/home/thjo/Datasets/autoSchenk/\")\n",
    "for file in files:\n",
    "    if file.startswith(\"_\") or file.startswith(\".\"):\n",
    "        os.remove(os.path.join(\"/home/thjo/Datasets/autoSchenk/\", file))"
   ]
  },
  {
   "cell_type": "code",
   "execution_count": null,
   "metadata": {},
   "outputs": [],
   "source": [
    "import os\n",
    "import shutil\n",
    "\n",
    "source_directories = [\"train\", \"val\", \"test\"]\n",
    "destination_directory = os.path.join(\"/home/thjo/Datasets/Schenk/\", \"all\")\n",
    "os.makedirs(destination_directory, exist_ok=True)\n",
    "for directory in source_directories:\n",
    "    directory = os.path.join(\"/home/thjo/Datasets/Schenk/\", directory)\n",
    "    files = os.listdir(directory)\n",
    "    for file in files:\n",
    "        source = os.path.join(directory, file)\n",
    "        destination = os.path.join(destination_directory, file)\n",
    "        shutil.move(source, destination)"
   ]
  },
  {
   "cell_type": "code",
   "execution_count": null,
   "metadata": {},
   "outputs": [],
   "source": [
    "import os\n",
    "import re\n",
    "\n",
    "directory = \"/home/thjo/Datasets/Schenk/train/\"  # Replace with the actual directory path\n",
    "\n",
    "files = os.listdir(directory)\n",
    "for file in files:\n",
    "    file_path = os.path.join(directory, file)\n",
    "    base_name, extension = os.path.splitext(file_path)\n",
    "\n",
    "    # Extract numeric parts from the base name using regular expressions\n",
    "    numeric_parts = re.findall(r'[\\d-]+', base_name)\n",
    "    new_file_path = \"item_\"+''.join(numeric_parts) + extension\n",
    "    # print(new_file_path)\n",
    "    os.rename(file_path, os.path.join(directory, new_file_path))\n",
    "# Check if all file image files have a corresponding label file\n",
    "for file in files:\n",
    "    file_path = os.path.join(directory, file)\n",
    "    base_name, extension = os.path.splitext(file_path)\n",
    "    if extension not in [\".jpg\", \".png\"]:\n",
    "        continue\n",
    "\n",
    "    label_path = base_name + \".txt\"\n",
    "    # print(label_path)\n",
    "    if not os.path.exists(label_path):\n",
    "        print(f\"Label file {label_path} does not exist!\")"
   ]
  },
  {
   "cell_type": "code",
   "execution_count": null,
   "metadata": {},
   "outputs": [],
   "source": [
    "import os\n",
    "\n",
    "directory = \"/home/thjo/Datasets/Schenk/all/\"  # Replace with the actual directory path\n",
    "\n",
    "files = os.listdir(directory)\n",
    "for index, file in enumerate(files):\n",
    "    file_path = os.path.join(directory, file)\n",
    "    base_name, extension = os.path.splitext(file_path)\n",
    "    if extension not in [\".jpg\", \".png\"]:\n",
    "        continue\n",
    "\n",
    "    label_path = base_name + \".txt\"\n",
    "    if not os.path.exists(label_path):\n",
    "        print(f\"Label file {label_path} does not exist!\")\n",
    "        continue\n",
    "\n",
    "    new_base_name = f\"item_{index + 1}\"\n",
    "    new_file_path = os.path.join(directory, new_base_name + extension)\n",
    "    new_label_path = os.path.join(directory, new_base_name + \".txt\")\n",
    "\n",
    "    os.rename(file_path, new_file_path)\n",
    "    os.rename(label_path, new_label_path)\n"
   ]
  },
  {
   "cell_type": "code",
   "execution_count": null,
   "metadata": {},
   "outputs": [],
   "source": [
    "files = os.listdir(directory)\n",
    "for file in files:\n",
    "    file_path = os.path.join(directory, file)\n",
    "    base_name, extension = os.path.splitext(file_path)\n",
    "    if extension not in [\".jpg\", \".png\"]:\n",
    "        continue\n",
    "\n",
    "    label_path = base_name + \".txt\"\n",
    "    # print(label_path)\n",
    "    if not os.path.exists(label_path):\n",
    "        print(f\"Label file {label_path} does not exist!\")"
   ]
  },
  {
   "cell_type": "code",
   "execution_count": null,
   "metadata": {},
   "outputs": [],
   "source": [
    "from tools.extract_labels import LabelExtractor\n",
    "input_folder = \"/home/thjo/Datasets/Schenk/test/\"\n",
    "output_folder = \"./test_folder/\"\n",
    "classes_to_extract = [1]\n",
    "LE = LabelExtractor(input_folder,output_folder,classes_to_extract)\n",
    "LE.extract_labels()"
   ]
  },
  {
   "cell_type": "code",
   "execution_count": null,
   "metadata": {},
   "outputs": [],
   "source": []
  }
 ],
 "metadata": {
  "kernelspec": {
   "display_name": "bolidenV8",
   "language": "python",
   "name": "python3"
  },
  "language_info": {
   "codemirror_mode": {
    "name": "ipython",
    "version": 3
   },
   "file_extension": ".py",
   "mimetype": "text/x-python",
   "name": "python",
   "nbconvert_exporter": "python",
   "pygments_lexer": "ipython3",
   "version": "3.9.16"
  },
  "orig_nbformat": 4
 },
 "nbformat": 4,
 "nbformat_minor": 2
}
